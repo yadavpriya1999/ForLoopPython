{
 "cells": [
  {
   "cell_type": "markdown",
   "id": "37b32e8c",
   "metadata": {},
   "source": [
    "# Basic Level"
   ]
  },
  {
   "cell_type": "markdown",
   "id": "0db24dca",
   "metadata": {},
   "source": [
    "1. Write a Python program to print the numbers from 1 to 10 using a `for` loop"
   ]
  },
  {
   "cell_type": "code",
   "execution_count": 1,
   "id": "f4227b89",
   "metadata": {},
   "outputs": [
    {
     "name": "stdout",
     "output_type": "stream",
     "text": [
      "1\n",
      "2\n",
      "3\n",
      "4\n",
      "5\n",
      "6\n",
      "7\n",
      "8\n",
      "9\n",
      "10\n"
     ]
    }
   ],
   "source": [
    "list1=list(range(1,11))\n",
    "for i in list1:\n",
    "    print(i) "
   ]
  },
  {
   "cell_type": "markdown",
   "id": "39dc28bf",
   "metadata": {},
   "source": [
    "2. Create a program that calculates the sum of all numbers in a list using a `for` loop."
   ]
  },
  {
   "cell_type": "code",
   "execution_count": 2,
   "id": "13f43eb7",
   "metadata": {},
   "outputs": [
    {
     "name": "stdout",
     "output_type": "stream",
     "text": [
      "Sum :  30\n"
     ]
    }
   ],
   "source": [
    "list2=[2,4,6,8,10]\n",
    "sum=0\n",
    "for i in list2:\n",
    "    sum+=i\n",
    "print(\"Sum : \",sum)"
   ]
  },
  {
   "cell_type": "markdown",
   "id": "3ef711d8",
   "metadata": {},
   "source": [
    "3. Write a program to print the characters of a string in reverse order using a `for` loop"
   ]
  },
  {
   "cell_type": "code",
   "execution_count": 3,
   "id": "c5620909",
   "metadata": {},
   "outputs": [
    {
     "name": "stdout",
     "output_type": "stream",
     "text": [
      "s\n",
      "l\n",
      "l\n",
      "i\n",
      "k\n",
      "s\n",
      "w\n",
      "p\n"
     ]
    }
   ],
   "source": [
    "str1=\"pwskills\"\n",
    "reverseStr1=str1[::-1]\n",
    "for i in reverseStr1:\n",
    "    print(i)"
   ]
  },
  {
   "cell_type": "markdown",
   "id": "d7bf8d96",
   "metadata": {},
   "source": [
    "4. Develop a program that finds the factorial of a given number using a `for` loop."
   ]
  },
  {
   "cell_type": "code",
   "execution_count": 4,
   "id": "fdce8b7c",
   "metadata": {},
   "outputs": [
    {
     "name": "stdout",
     "output_type": "stream",
     "text": [
      "factorial : 120\n"
     ]
    }
   ],
   "source": [
    "f=1\n",
    "for i in reversed(range(1,6)):\n",
    "    f=f*i\n",
    "print(\"factorial :\",f)\n",
    "    "
   ]
  },
  {
   "cell_type": "markdown",
   "id": "d1a6610f",
   "metadata": {},
   "source": [
    "5. Create a program to print the multiplication table of a given number using a `for` loop"
   ]
  },
  {
   "cell_type": "code",
   "execution_count": 5,
   "id": "427b0fb4",
   "metadata": {},
   "outputs": [
    {
     "name": "stdout",
     "output_type": "stream",
     "text": [
      "Enter a number :4\n",
      "4 X 0 = 0\n",
      "4 X 1 = 4\n",
      "4 X 2 = 8\n",
      "4 X 3 = 12\n",
      "4 X 4 = 16\n",
      "4 X 5 = 20\n",
      "4 X 6 = 24\n",
      "4 X 7 = 28\n",
      "4 X 8 = 32\n",
      "4 X 9 = 36\n",
      "4 X 10 = 40\n"
     ]
    }
   ],
   "source": [
    "n=int(input(\"Enter a number :\"))\n",
    "for i in range(0,11):\n",
    "    print(n,\"X\",i,\"=\",n*i)"
   ]
  },
  {
   "cell_type": "markdown",
   "id": "6654b9a7",
   "metadata": {},
   "source": [
    "6. Write a program that counts the number of even and odd numbers in a list using a `for` loop."
   ]
  },
  {
   "cell_type": "code",
   "execution_count": 6,
   "id": "d99b07e0",
   "metadata": {},
   "outputs": [
    {
     "name": "stdout",
     "output_type": "stream",
     "text": [
      "No of even : 9\n",
      "No of odd : 10\n"
     ]
    }
   ],
   "source": [
    "list3=list(range(1,20))\n",
    "evenC=0\n",
    "oddC=0\n",
    "for i in list3:\n",
    "    if i%2==0:\n",
    "        evenC+=1\n",
    "    else:\n",
    "        oddC+=1\n",
    "print(\"No of even :\",evenC)\n",
    "print(\"No of odd :\",oddC)   "
   ]
  },
  {
   "cell_type": "markdown",
   "id": "c6bbd7dd",
   "metadata": {},
   "source": [
    "7. Develop a program that prints the squares of numbers from 1 to 5 using a `for` loop."
   ]
  },
  {
   "cell_type": "code",
   "execution_count": 7,
   "id": "2e295048",
   "metadata": {},
   "outputs": [
    {
     "name": "stdout",
     "output_type": "stream",
     "text": [
      "1\n",
      "4\n",
      "9\n",
      "16\n",
      "25\n"
     ]
    }
   ],
   "source": [
    "for i in range(1,6):\n",
    "    print(i*i)\n",
    "    "
   ]
  },
  {
   "cell_type": "markdown",
   "id": "8a0af67a",
   "metadata": {},
   "source": [
    "8. Create a program to find the length of a string without using the `len()` function."
   ]
  },
  {
   "cell_type": "code",
   "execution_count": 8,
   "id": "552a8c5f",
   "metadata": {},
   "outputs": [
    {
     "name": "stdout",
     "output_type": "stream",
     "text": [
      "8\n"
     ]
    }
   ],
   "source": [
    "string2=\"pwskills\"\n",
    "print(len(string2))"
   ]
  },
  {
   "cell_type": "markdown",
   "id": "c77f60fc",
   "metadata": {},
   "source": [
    "9. Write a program that calculates the average of a list of numbers using a `for` loop."
   ]
  },
  {
   "cell_type": "code",
   "execution_count": 9,
   "id": "1af66832",
   "metadata": {},
   "outputs": [
    {
     "name": "stdout",
     "output_type": "stream",
     "text": [
      "3.0\n"
     ]
    }
   ],
   "source": [
    "list4=[1,2,3,4,5]\n",
    "length=len(list4)\n",
    "sumEle=0\n",
    "for i in list4:\n",
    "    sumEle+=i\n",
    "avg=sumEle/length\n",
    "print(avg)\n",
    "    "
   ]
  },
  {
   "cell_type": "markdown",
   "id": "e21d0eeb",
   "metadata": {},
   "source": [
    "10. Develop a program that prints the first `n` Fibonacci numbers using a `for` loop."
   ]
  },
  {
   "cell_type": "code",
   "execution_count": 11,
   "id": "ddda5928",
   "metadata": {},
   "outputs": [
    {
     "name": "stdout",
     "output_type": "stream",
     "text": [
      "Enter a Number :5\n",
      "0\n",
      "1\n",
      "1\n",
      "2\n",
      "3\n"
     ]
    }
   ],
   "source": [
    "num=int(input(\"Enter a Number :\"))\n",
    "first=0\n",
    "second=1\n",
    "print(first)\n",
    "print(second)\n",
    "\n",
    "for i in range(2,num):\n",
    "    third=first+second\n",
    "    print(third)\n",
    "    first,second=second,third"
   ]
  },
  {
   "cell_type": "markdown",
   "id": "c7a5a135",
   "metadata": {},
   "source": [
    "# Intermediate Level"
   ]
  },
  {
   "cell_type": "markdown",
   "id": "7b0048ea",
   "metadata": {},
   "source": [
    "11. Write a program to check if a given list contains any duplicates using a `for` loop."
   ]
  },
  {
   "cell_type": "code",
   "execution_count": 106,
   "id": "38eb7da4",
   "metadata": {},
   "outputs": [
    {
     "name": "stdout",
     "output_type": "stream",
     "text": [
      "Yes!\n"
     ]
    }
   ],
   "source": [
    "list5=[1,2,3,4,2,5,7]\n",
    "s=set(list5)\n",
    "length_list=len(list5)\n",
    "length_set=len(s)\n",
    "if length_list!=length_set:\n",
    "    print(\"Yes!\")\n",
    "else:\n",
    "    print(\"NO\")\n"
   ]
  },
  {
   "cell_type": "markdown",
   "id": "7048d28a",
   "metadata": {},
   "source": [
    "12. Create a program that prints the prime numbers in a given range using a `for` loop"
   ]
  },
  {
   "cell_type": "code",
   "execution_count": 100,
   "id": "fda57a19",
   "metadata": {},
   "outputs": [
    {
     "name": "stdout",
     "output_type": "stream",
     "text": [
      "2 3 5 7 11 13 17 19 23 29 31 37 41 43 47 "
     ]
    }
   ],
   "source": [
    "for n in range(1,50):\n",
    "    if n>1:\n",
    "        for i in range(2,n):\n",
    "            if (n%i)==0:\n",
    "                break\n",
    "        else:\n",
    "            print(n,end=\" \")"
   ]
  },
  {
   "cell_type": "markdown",
   "id": "c11e17b8",
   "metadata": {},
   "source": [
    "13. Develop a program that counts the number of vowels in a string using a `for` loop."
   ]
  },
  {
   "cell_type": "code",
   "execution_count": 4,
   "id": "d7364c6e",
   "metadata": {},
   "outputs": [
    {
     "name": "stdout",
     "output_type": "stream",
     "text": [
      "5\n"
     ]
    }
   ],
   "source": [
    "string1=\"Hello ,pwskills here\"\n",
    "count=0\n",
    "for i in string1:\n",
    "    if i=='a' or i=='e' or i=='o' or i=='i' or i=='u'  or i=='A' or i=='E' or i=='I' or i=='O' or i=='U':\n",
    "        count+=1;\n",
    "print(count)"
   ]
  },
  {
   "cell_type": "markdown",
   "id": "53415550",
   "metadata": {},
   "source": [
    "14. Write a program to find the maximum element in a 2D list using a nested `for` loop."
   ]
  },
  {
   "cell_type": "code",
   "execution_count": 111,
   "id": "3c275aee",
   "metadata": {},
   "outputs": [
    {
     "name": "stdout",
     "output_type": "stream",
     "text": [
      "15\n"
     ]
    }
   ],
   "source": [
    "list_2D=[\n",
    "    [1,2,3],[4,5,6],[9,12,15]\n",
    "]\n",
    "max_ele=list_2D[0][0]\n",
    "for i in range(len(list_2D)):\n",
    "    for j in range(len(list_2D[i])):\n",
    "        if list_2D[i][j]>max_ele:\n",
    "            max_ele=list_2D[i][j]\n",
    "print(max_ele)"
   ]
  },
  {
   "cell_type": "markdown",
   "id": "57c2d4cb",
   "metadata": {},
   "source": [
    "15. Create a program that removes all occurrences of a specific element from a list using a `for` loop."
   ]
  },
  {
   "cell_type": "code",
   "execution_count": 17,
   "id": "7ae14d21",
   "metadata": {},
   "outputs": [
    {
     "name": "stdout",
     "output_type": "stream",
     "text": [
      "[2, 3, 4, 5, 6, 7, 2, 3, 4, 7, 8, 9, 1]\n"
     ]
    }
   ],
   "source": [
    "list5=[1,2,3,4,5,6,7,1,2,3,4,7,8,9,1]\n",
    "n=1 # number to be deleting\n",
    "for i in list5:\n",
    "    if i==n:\n",
    "        list5.remove(i)\n",
    "        \n",
    "print(list5)\n",
    "    "
   ]
  },
  {
   "cell_type": "markdown",
   "id": "ba3feceb",
   "metadata": {},
   "source": [
    "16. Develop a program that generates a multiplication table for numbers from 1 to 5 using a nested `for` loop."
   ]
  },
  {
   "cell_type": "code",
   "execution_count": 21,
   "id": "7ad731ce",
   "metadata": {},
   "outputs": [
    {
     "name": "stdout",
     "output_type": "stream",
     "text": [
      "1  x 0 = 0\n",
      "1  x 1 = 1\n",
      "1  x 2 = 2\n",
      "1  x 3 = 3\n",
      "1  x 4 = 4\n",
      "1  x 5 = 5\n",
      "1  x 6 = 6\n",
      "1  x 7 = 7\n",
      "1  x 8 = 8\n",
      "1  x 9 = 9\n",
      "1  x 10 = 10\n",
      "\n",
      "\n",
      "2  x 0 = 0\n",
      "2  x 1 = 2\n",
      "2  x 2 = 4\n",
      "2  x 3 = 6\n",
      "2  x 4 = 8\n",
      "2  x 5 = 10\n",
      "2  x 6 = 12\n",
      "2  x 7 = 14\n",
      "2  x 8 = 16\n",
      "2  x 9 = 18\n",
      "2  x 10 = 20\n",
      "\n",
      "\n",
      "3  x 0 = 0\n",
      "3  x 1 = 3\n",
      "3  x 2 = 6\n",
      "3  x 3 = 9\n",
      "3  x 4 = 12\n",
      "3  x 5 = 15\n",
      "3  x 6 = 18\n",
      "3  x 7 = 21\n",
      "3  x 8 = 24\n",
      "3  x 9 = 27\n",
      "3  x 10 = 30\n",
      "\n",
      "\n",
      "4  x 0 = 0\n",
      "4  x 1 = 4\n",
      "4  x 2 = 8\n",
      "4  x 3 = 12\n",
      "4  x 4 = 16\n",
      "4  x 5 = 20\n",
      "4  x 6 = 24\n",
      "4  x 7 = 28\n",
      "4  x 8 = 32\n",
      "4  x 9 = 36\n",
      "4  x 10 = 40\n",
      "\n",
      "\n",
      "5  x 0 = 0\n",
      "5  x 1 = 5\n",
      "5  x 2 = 10\n",
      "5  x 3 = 15\n",
      "5  x 4 = 20\n",
      "5  x 5 = 25\n",
      "5  x 6 = 30\n",
      "5  x 7 = 35\n",
      "5  x 8 = 40\n",
      "5  x 9 = 45\n",
      "5  x 10 = 50\n",
      "\n",
      "\n"
     ]
    }
   ],
   "source": [
    "for i in range(1,6):\n",
    "    for j in range(0,11):\n",
    "        print(i,\" x\",j,\"=\",i*j)\n",
    "    print(\"\\n\")\n"
   ]
  },
  {
   "cell_type": "markdown",
   "id": "de51d576",
   "metadata": {},
   "source": [
    "17. Write a program that converts a list of Fahrenheit temperatures to Celsius using a `for` loop."
   ]
  },
  {
   "cell_type": "code",
   "execution_count": 24,
   "id": "5cc8268a",
   "metadata": {},
   "outputs": [
    {
     "name": "stdout",
     "output_type": "stream",
     "text": [
      "-54.0\n",
      "-90.0\n",
      "-40.5\n",
      "58.5\n"
     ]
    }
   ],
   "source": [
    "fahrenheit_list=[20,12,23,45]\n",
    "c=0\n",
    "#Formula \n",
    "#C=(F-32)*5/9\n",
    "for i in fahrenheit_list:\n",
    "    c=(i-32)*(9/2)\n",
    "    print(c)"
   ]
  },
  {
   "cell_type": "markdown",
   "id": "fc18cb36",
   "metadata": {},
   "source": [
    "18. Create a program to print the common elements from two lists using a `for` loop."
   ]
  },
  {
   "cell_type": "code",
   "execution_count": 26,
   "id": "d6c3495b",
   "metadata": {},
   "outputs": [
    {
     "name": "stdout",
     "output_type": "stream",
     "text": [
      "3\n",
      "1\n"
     ]
    }
   ],
   "source": [
    "list1=[2,3,4,51,7,1]\n",
    "list2=[5,23,3,1,9]\n",
    "\n",
    "for i in list1:\n",
    "    for j in list2:\n",
    "        if i==j:\n",
    "            print(i)\n",
    "        "
   ]
  },
  {
   "cell_type": "markdown",
   "id": "ae03c4ff",
   "metadata": {},
   "source": [
    "19. Develop a program that prints the pattern of right-angled triangles using a `for` loop. Use ‘*’ to draw the \n",
    "pattern\n"
   ]
  },
  {
   "cell_type": "code",
   "execution_count": 33,
   "id": "93ac38c3",
   "metadata": {},
   "outputs": [
    {
     "name": "stdout",
     "output_type": "stream",
     "text": [
      "* \r\n",
      "* * \r\n",
      "* * * \r\n",
      "* * * * \r\n",
      "* * * * * \r\n",
      "* * * * * * \r\n"
     ]
    }
   ],
   "source": [
    "for i in range(0,6):\n",
    "    for j in range(0,i+1):\n",
    "        print(\"*\" ,end=\" \")\n",
    "    print('\\r')"
   ]
  },
  {
   "cell_type": "markdown",
   "id": "84e4c7ab",
   "metadata": {},
   "source": [
    "20. Write a program to find the greatest common divisor (GCD) of two numbers using a `for` loop."
   ]
  },
  {
   "cell_type": "code",
   "execution_count": 112,
   "id": "c532b475",
   "metadata": {},
   "outputs": [
    {
     "data": {
      "text/plain": [
       "12"
      ]
     },
     "execution_count": 112,
     "metadata": {},
     "output_type": "execute_result"
    }
   ],
   "source": [
    "def find_gcd(a,b):\n",
    "    while b:\n",
    "        a,b=b,a%b\n",
    "    return a\n",
    "find_gcd(36,60)"
   ]
  },
  {
   "cell_type": "markdown",
   "id": "e5819984",
   "metadata": {},
   "source": [
    "# Advanced Level:"
   ]
  },
  {
   "cell_type": "markdown",
   "id": "aa408b60",
   "metadata": {},
   "source": [
    "21. Create a program that calculates the sum of the digits of numbers in a list using a list comprehension."
   ]
  },
  {
   "cell_type": "code",
   "execution_count": 1,
   "id": "963a6c37",
   "metadata": {},
   "outputs": [
    {
     "name": "stdout",
     "output_type": "stream",
     "text": [
      "17\n"
     ]
    }
   ],
   "source": [
    "list1=[2,3,4,8]\n",
    "sum_list=sum([x for x in list1])\n",
    "print(sum_list)"
   ]
  },
  {
   "cell_type": "markdown",
   "id": "b40c2e1e",
   "metadata": {},
   "source": [
    "22. Write a program to find the prime factors of a given number using a `for` loop and list comprehension."
   ]
  },
  {
   "cell_type": "code",
   "execution_count": 3,
   "id": "06aec0a4",
   "metadata": {},
   "outputs": [
    {
     "name": "stdout",
     "output_type": "stream",
     "text": [
      "[1, 2, 3, 5, 7, 11, 13, 17, 19]\n"
     ]
    }
   ],
   "source": [
    "list2=list(range(1,20))\n",
    "prime=[x for x in list2 if all(x%y!=0 for y in range(2,x))]\n",
    "print(prime)\n"
   ]
  },
  {
   "cell_type": "markdown",
   "id": "a4ab8e7e",
   "metadata": {},
   "source": [
    "23. Develop a program that extracts unique elements from a list and stores them in a new list using a list\n",
    "comprehension."
   ]
  },
  {
   "cell_type": "code",
   "execution_count": 1,
   "id": "6ea09a49",
   "metadata": {},
   "outputs": [
    {
     "name": "stdout",
     "output_type": "stream",
     "text": [
      "[1, 2, 3, 4, 5, 6]\n"
     ]
    }
   ],
   "source": [
    "list3=[1,2,3,2,4,5,1,1,1,6,3,3]\n",
    "new_list=[]\n",
    "[new_list.append(x) for x in list3 if x not in new_list]\n",
    "print(new_list)"
   ]
  },
  {
   "cell_type": "markdown",
   "id": "7cfbf0e5",
   "metadata": {},
   "source": [
    "24. Create a program that generates a list of all palindromic numbers up to a specified limit using a list\n",
    "comprehension."
   ]
  },
  {
   "cell_type": "code",
   "execution_count": 8,
   "id": "2f35af65",
   "metadata": {},
   "outputs": [
    {
     "name": "stdout",
     "output_type": "stream",
     "text": [
      "11 22 33 44 55 66 77 88 99 101 111 121 131 141 151 161 171 181 191 "
     ]
    }
   ],
   "source": [
    "def check_Palindrom(list_a):\n",
    "    for i in list_a:\n",
    "        if str(i)==str(i)[::-1]:\n",
    "            print(i,end=\" \")\n",
    "list_a=list(range(10,200))\n",
    "check_Palindrom(list_a)"
   ]
  },
  {
   "cell_type": "markdown",
   "id": "fab29bad",
   "metadata": {},
   "source": [
    "25. Write a program to flatten a nested list using list comprehension."
   ]
  },
  {
   "cell_type": "code",
   "execution_count": 9,
   "id": "2319a08a",
   "metadata": {},
   "outputs": [
    {
     "name": "stdout",
     "output_type": "stream",
     "text": [
      "[9, 3, 8, 3, 4, 5, 2, 8, 6, 4, 3, 1, 1, 0, 4, 5]\n"
     ]
    }
   ],
   "source": [
    "#converting multidimention list into 1-D\n",
    "matrix = [\n",
    "         [9, 3, 8, 3],\n",
    "         [4, 5, 2, 8],\n",
    "         [6, 4, 3, 1],\n",
    "         [1, 0, 4, 5],\n",
    "]\n",
    "list_1D=[]\n",
    "for row in matrix:\n",
    "    list_1D.extend(row)\n",
    "print(list_1D)"
   ]
  },
  {
   "cell_type": "markdown",
   "id": "9e8a45bc",
   "metadata": {},
   "source": [
    "26. Develop a program that computes the sum of even and odd numbers in a list separately using list\n",
    "comprehension."
   ]
  },
  {
   "cell_type": "code",
   "execution_count": 10,
   "id": "adddf218",
   "metadata": {},
   "outputs": [
    {
     "name": "stdout",
     "output_type": "stream",
     "text": [
      "Even : 30\n",
      "Odd: 25\n"
     ]
    }
   ],
   "source": [
    "l=list(range(1,11))\n",
    "even_s=sum([x for x in l if x%2==0])\n",
    "print(\"Even :\",even_s)\n",
    "odd_s=sum([x for x in l if x%2!=0])\n",
    "print(\"Odd:\",odd_s)"
   ]
  },
  {
   "cell_type": "markdown",
   "id": "c291696b",
   "metadata": {},
   "source": [
    "27. Create a program that generates a list of squares of odd numbers between 1 and 10 using list\n",
    "comprehension."
   ]
  },
  {
   "cell_type": "code",
   "execution_count": 11,
   "id": "ffb813f8",
   "metadata": {},
   "outputs": [
    {
     "name": "stdout",
     "output_type": "stream",
     "text": [
      "[1, 9, 25, 49, 81]\n"
     ]
    }
   ],
   "source": [
    "l=list(range(1,10))\n",
    "square_list=[x*x for x in l if x%2!=0]\n",
    "print(square_list)"
   ]
  },
  {
   "cell_type": "markdown",
   "id": "597f38ca",
   "metadata": {},
   "source": [
    "28. Write a program that combines two lists into a dictionary using list comprehension."
   ]
  },
  {
   "cell_type": "code",
   "execution_count": 18,
   "id": "b4b9a0df",
   "metadata": {},
   "outputs": [
    {
     "name": "stdout",
     "output_type": "stream",
     "text": [
      "{'a': 1, 'b': 2, 'c': 3}\n"
     ]
    }
   ],
   "source": [
    "l1=[\"a\",\"b\",\"c\"]\n",
    "l2=[1,2,3]\n",
    "dict1={}\n",
    "for key in l1:\n",
    "    for value in l2:\n",
    "        dict1[key]=value\n",
    "        l2.remove(value)\n",
    "        break\n",
    "print(dict1)"
   ]
  },
  {
   "cell_type": "code",
   "execution_count": 25,
   "id": "3ae95651",
   "metadata": {},
   "outputs": [
    {
     "name": "stdout",
     "output_type": "stream",
     "text": [
      "{'a': 1, 'b': 2, 'c': 3}\n"
     ]
    }
   ],
   "source": [
    "l1=[\"a\",\"b\",\"c\"]\n",
    "l2=[1,2,3]\n",
    "dict1={l1[i]: l2[i] for i in range(min(len(l1),len(l2)))}\n",
    "print(dict1)"
   ]
  },
  {
   "cell_type": "markdown",
   "id": "96fd3add",
   "metadata": {},
   "source": [
    "29. Develop a program that extracts the vowels from a string and stores them in a list using list comprehension."
   ]
  },
  {
   "cell_type": "code",
   "execution_count": 26,
   "id": "1ec09456",
   "metadata": {},
   "outputs": [
    {
     "name": "stdout",
     "output_type": "stream",
     "text": [
      "['e', 'o', 'i', 'e']\n"
     ]
    }
   ],
   "source": [
    "s=\"hello its me\"\n",
    "l=[x for x in s if x=='a' or  x=='e' or x=='i' or x=='o' or x=='u']\n",
    "print(l)"
   ]
  },
  {
   "cell_type": "markdown",
   "id": "dc0f5d3c",
   "metadata": {},
   "source": [
    "30. Create a program that removes all non-numeric characters from a list of strings using list comprehension."
   ]
  },
  {
   "cell_type": "code",
   "execution_count": 30,
   "id": "bb765a8b",
   "metadata": {},
   "outputs": [
    {
     "name": "stdout",
     "output_type": "stream",
     "text": [
      "[7, 2, 1, 3]\n"
     ]
    }
   ],
   "source": [
    "l=['%',7,2,1,'@',3,'#']\n",
    "l2=[x for x in l if x!='@' and  x!='%' and x!='/' and x!='$' and x!='#' ]\n",
    "print(l2)"
   ]
  },
  {
   "cell_type": "markdown",
   "id": "b07df2b2",
   "metadata": {},
   "source": [
    "# Challenge Level:"
   ]
  },
  {
   "cell_type": "markdown",
   "id": "c8daf8e3",
   "metadata": {},
   "source": [
    "31. Write a program to generate a list of prime numbers using the Sieve of Eratosthenes algorithm and list\n",
    "comprehension."
   ]
  },
  {
   "cell_type": "code",
   "execution_count": 17,
   "id": "4c65c9b5",
   "metadata": {},
   "outputs": [
    {
     "name": "stdout",
     "output_type": "stream",
     "text": [
      "2 3 5 7 11 13 17 19 23 29 31 37 41 43 47 "
     ]
    }
   ],
   "source": [
    "# sieve of Eratosthenes algorithms\n",
    "n=50\n",
    "non_prime_list=[]\n",
    "for i in range(2,n+1):\n",
    "        if i not in non_prime_list:\n",
    "            print(i,end=\" \")\n",
    "            for j in range(i*i,n+1,i):\n",
    "                non_prime_list.append(j)"
   ]
  },
  {
   "cell_type": "code",
   "execution_count": null,
   "id": "305b58fa",
   "metadata": {},
   "outputs": [],
   "source": []
  },
  {
   "cell_type": "markdown",
   "id": "b0e03fa2",
   "metadata": {},
   "source": [
    "32. Create a program that generates a list of all Pythagorean triplets up to a specified limit using list\n",
    "comprehension."
   ]
  },
  {
   "cell_type": "code",
   "execution_count": 6,
   "id": "891bd597",
   "metadata": {},
   "outputs": [
    {
     "name": "stdout",
     "output_type": "stream",
     "text": [
      "3 4 5\n",
      "4 3 5\n",
      "5 12 13\n",
      "6 8 10\n",
      "8 6 10\n",
      "8 15 17\n",
      "9 12 15\n",
      "12 5 13\n",
      "12 9 15\n",
      "15 8 17\n"
     ]
    }
   ],
   "source": [
    "limit=20\n",
    "for a in range(1,limit):\n",
    "    for b in range(1,limit):\n",
    "        for c in range(1,limit):\n",
    "            if a*a+b*b==c*c:\n",
    "                print(a,b,c)\n",
    "                \n",
    "    "
   ]
  },
  {
   "cell_type": "markdown",
   "id": "fce6a2fc",
   "metadata": {},
   "source": [
    "33. Develop a program that generates a list of all possible combinations of two lists using list comprehension."
   ]
  },
  {
   "cell_type": "code",
   "execution_count": 3,
   "id": "5d57fcee",
   "metadata": {},
   "outputs": [
    {
     "name": "stdout",
     "output_type": "stream",
     "text": [
      "[[1, 3], [1, 4], [2, 3], [2, 4]]\n"
     ]
    }
   ],
   "source": [
    "l1=[1,2]\n",
    "l2=[3,4]\n",
    "l3=[]\n",
    "for i in l1:\n",
    "    for j in l2:\n",
    "        l=[]\n",
    "        l.append(i)\n",
    "        l.append(j)\n",
    "        l3.append(l)\n",
    "print(l3)"
   ]
  },
  {
   "cell_type": "code",
   "execution_count": 9,
   "id": "8e7b09e0",
   "metadata": {},
   "outputs": [
    {
     "name": "stdout",
     "output_type": "stream",
     "text": [
      "[(1, 3), (1, 4), (2, 3), (2, 4)]\n"
     ]
    }
   ],
   "source": [
    "import itertools\n",
    "\n",
    "l1=[1,2]\n",
    "l2=[3,4]\n",
    "l3=[i for i in itertools.product(l1,l2) ]\n",
    "print(l3)"
   ]
  },
  {
   "cell_type": "markdown",
   "id": "fa4f8751",
   "metadata": {},
   "source": [
    "34.Write a program that calculates the mean, median, and mode of a list of numbers using list\n",
    "comprehension."
   ]
  },
  {
   "cell_type": "code",
   "execution_count": 28,
   "id": "484a4ac4",
   "metadata": {},
   "outputs": [
    {
     "name": "stdout",
     "output_type": "stream",
     "text": [
      "14.38888888888889\n",
      "2\n",
      "2\n"
     ]
    }
   ],
   "source": [
    "l=[2,3,18,92,12,67,34,2,2,2,2,2,2,2,2,5,5,5]\n",
    "\n",
    "mean=sum(l)/len(l)\n",
    "print(mean)\n",
    "\n",
    "n=len(l)\n",
    "median=l[(len(l)+1)//2]\n",
    "print(median)\n",
    "\n",
    "import statistics\n",
    "find_mode=statistics.mode(l)\n",
    "print(find_mode)"
   ]
  },
  {
   "cell_type": "markdown",
   "id": "480a6025",
   "metadata": {},
   "source": [
    "35. Create a program that generates Pascal's triangle up to a specified number of rows using list\n",
    "comprehension."
   ]
  },
  {
   "cell_type": "markdown",
   "id": "32fc75b4",
   "metadata": {},
   "source": [
    "\"\"\"Pascal triangle\n",
    "1\n",
    "1 1\n",
    "1 2 1\n",
    "1 3 3 1\n",
    "1 4 6 4 1\n",
    "\"\"\"\n"
   ]
  },
  {
   "cell_type": "code",
   "execution_count": 46,
   "id": "ea4529f3",
   "metadata": {},
   "outputs": [
    {
     "name": "stdout",
     "output_type": "stream",
     "text": [
      "      1 \n",
      "     1 1 \n",
      "    1 2 1 \n",
      "   1 3 3 1 \n",
      "  1 4 6 4 1 \n"
     ]
    }
   ],
   "source": [
    "from math import factorial\n",
    "n=5\n",
    "for i in range(n):\n",
    "    \n",
    "    for j in range(n-i+1):\n",
    "        print(end=\" \")\n",
    "        \n",
    "    for j in range(i+1):\n",
    "        fact=factorial(i)//(factorial(j)*factorial(i-j))\n",
    "        print(fact,end=\" \")\n",
    "    print()"
   ]
  },
  {
   "cell_type": "markdown",
   "id": "9e7eccba",
   "metadata": {},
   "source": [
    "36. Develop a program that calculates the sum of the digits of a factorial of numbers from 1 to 5 using list\n",
    "comprehension."
   ]
  },
  {
   "cell_type": "code",
   "execution_count": 51,
   "id": "469bf1e6",
   "metadata": {},
   "outputs": [
    {
     "name": "stdout",
     "output_type": "stream",
     "text": [
      "[1, 2, 6, 6, 3]\n"
     ]
    }
   ],
   "source": [
    "from math import factorial\n",
    "l=[]\n",
    "for i in range(1,6):\n",
    "    n=factorial(i)\n",
    "    d=0\n",
    "    while n>0:\n",
    "        d+=n%10\n",
    "        n//=10\n",
    "    l.append(d)\n",
    "print(l)"
   ]
  },
  {
   "cell_type": "code",
   "execution_count": 59,
   "id": "78027357",
   "metadata": {},
   "outputs": [
    {
     "name": "stdout",
     "output_type": "stream",
     "text": [
      "[1, 2, 6, 6, 3]\n"
     ]
    }
   ],
   "source": [
    "def sum_digit(number):\n",
    "    return sum(int(digit) for digit in str(number))\n",
    "l=[sum_digit(factorial(n)) for n in range(1,6)]\n",
    "\n",
    "print(l)"
   ]
  },
  {
   "cell_type": "markdown",
   "id": "caea5b3b",
   "metadata": {},
   "source": [
    "37. Write a program that finds the longest word in a sentence using list comprehension."
   ]
  },
  {
   "cell_type": "code",
   "execution_count": 61,
   "id": "b1277af6",
   "metadata": {},
   "outputs": [
    {
     "name": "stdout",
     "output_type": "stream",
     "text": [
      "Programming\n"
     ]
    }
   ],
   "source": [
    "sentence=\"I love the python Programming Languange\"\n",
    "w=sentence.split()\n",
    "longest=\"\"\n",
    "\n",
    "for i in w:\n",
    "    if len(i)>len(longest):\n",
    "        longest=i\n",
    "print(longest)"
   ]
  },
  {
   "cell_type": "code",
   "execution_count": 65,
   "id": "c2f7e92e",
   "metadata": {},
   "outputs": [
    {
     "name": "stdout",
     "output_type": "stream",
     "text": [
      "Programming\n"
     ]
    }
   ],
   "source": [
    "sentence=\"I love the python Programming Languange\"\n",
    "w=sentence.split()\n",
    "longest=max((i for i in w),key=len)\n",
    "print(longest)"
   ]
  },
  {
   "cell_type": "markdown",
   "id": "aff2b9bd",
   "metadata": {},
   "source": [
    "38. Create a program that filters a list of strings to include only those with more than three vowels using list\n",
    "comprehension."
   ]
  },
  {
   "cell_type": "code",
   "execution_count": 129,
   "id": "f4bbc009",
   "metadata": {},
   "outputs": [
    {
     "name": "stdout",
     "output_type": "stream",
     "text": [
      "['programming', 'including']\n"
     ]
    }
   ],
   "source": [
    "strings=[\"pyhton\",\"java\",\"programming\",\"including\",\"fun\"]\n",
    "def count_vowel(string):\n",
    "    vowels=\"AEIOUaeiou\"\n",
    "    return len([c for c in string if c in vowels])\n",
    "filtered_string=[s for s in strings if count_vowel(s)>=3]\n",
    "print(filtered_string)"
   ]
  },
  {
   "cell_type": "markdown",
   "id": "ec3f3cce",
   "metadata": {},
   "source": [
    "39. Develop a program that calculates the sum of the digits of numbers from 1 to 1000 using list\n",
    "comprehension."
   ]
  },
  {
   "cell_type": "code",
   "execution_count": 69,
   "id": "11ecd1ce",
   "metadata": {},
   "outputs": [],
   "source": [
    "def sum_digit(number):\n",
    "    return sum(int(digit) for digit in str(number))\n"
   ]
  },
  {
   "cell_type": "code",
   "execution_count": 78,
   "id": "1e89ab7c",
   "metadata": {},
   "outputs": [
    {
     "name": "stdout",
     "output_type": "stream",
     "text": [
      "[(11, 2), (12, 3), (13, 4), (14, 5), (15, 6), (16, 7), (17, 8), (18, 9), (19, 10), (20, 2), (21, 3), (22, 4), (23, 5), (24, 6), (25, 7), (26, 8), (27, 9), (28, 10), (29, 11), (30, 3), (31, 4), (32, 5), (33, 6), (34, 7), (35, 8), (36, 9), (37, 10), (38, 11), (39, 12), (40, 4), (41, 5), (42, 6), (43, 7), (44, 8), (45, 9), (46, 10), (47, 11), (48, 12), (49, 13), (50, 5), (51, 6), (52, 7), (53, 8), (54, 9), (55, 10), (56, 11), (57, 12), (58, 13), (59, 14), (60, 6), (61, 7), (62, 8), (63, 9), (64, 10), (65, 11), (66, 12), (67, 13), (68, 14), (69, 15), (70, 7), (71, 8), (72, 9), (73, 10), (74, 11), (75, 12), (76, 13), (77, 14), (78, 15), (79, 16), (80, 8), (81, 9), (82, 10), (83, 11), (84, 12), (85, 13), (86, 14), (87, 15), (88, 16), (89, 17), (90, 9), (91, 10), (92, 11), (93, 12), (94, 13), (95, 14), (96, 15), (97, 16), (98, 17), (99, 18)]\n"
     ]
    }
   ],
   "source": [
    "l=[(n,sum_digit(n)) for n in range(11,100)]\n",
    "print(l)"
   ]
  },
  {
   "cell_type": "markdown",
   "id": "258d7a2b",
   "metadata": {},
   "source": [
    "40. Write a program that generates a list of prime palindromic numbers using list comprehension."
   ]
  },
  {
   "cell_type": "code",
   "execution_count": 94,
   "id": "7c326ff1",
   "metadata": {},
   "outputs": [
    {
     "name": "stdout",
     "output_type": "stream",
     "text": [
      "[2, 3, 4, 5, 7, 11, 101, 131, 151, 181, 191]\n"
     ]
    }
   ],
   "source": [
    "def isPrime(num):\n",
    "    if num>1:\n",
    "        for i in range(2,num//2):\n",
    "            if (num%i)==0:\n",
    "                return False\n",
    "\n",
    "        return True\n",
    "    \n",
    "    \n",
    "def isPalindrome(num):\n",
    "    return str(num)==str(num)[::-1]\n",
    "\n",
    "l=[n for n in range(1,200) if isPrime(n) and isPalindrome(n)]\n",
    "print(l)"
   ]
  },
  {
   "cell_type": "code",
   "execution_count": null,
   "id": "5ae990f7",
   "metadata": {},
   "outputs": [],
   "source": []
  }
 ],
 "metadata": {
  "kernelspec": {
   "display_name": "Python 3 (ipykernel)",
   "language": "python",
   "name": "python3"
  },
  "language_info": {
   "codemirror_mode": {
    "name": "ipython",
    "version": 3
   },
   "file_extension": ".py",
   "mimetype": "text/x-python",
   "name": "python",
   "nbconvert_exporter": "python",
   "pygments_lexer": "ipython3",
   "version": "3.10.9"
  }
 },
 "nbformat": 4,
 "nbformat_minor": 5
}
